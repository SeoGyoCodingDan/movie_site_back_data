{
 "cells": [
  {
   "cell_type": "markdown",
   "metadata": {
    "collapsed": true,
    "pycharm": {
     "name": "#%% md\n"
    }
   },
   "source": [
    "## Import & 전역변수"
   ]
  },
  {
   "cell_type": "code",
   "execution_count": 5,
   "outputs": [],
   "source": [
    "import requests\n",
    "import json\n",
    "TOT_CNT = 82557\n",
    "MAX_PER_PAGE = 100\n",
    "ITER_NUM = TOT_CNT//MAX_PER_PAGE+1\n",
    "CHECK_POINT = 200"
   ],
   "metadata": {
    "collapsed": false,
    "pycharm": {
     "name": "#%%\n"
    }
   }
  },
  {
   "cell_type": "markdown",
   "source": [
    "## 영화진흥위원회 API를 사용하여 영화목록 가져오기\n"
   ],
   "metadata": {
    "collapsed": false,
    "pycharm": {
     "name": "#%% md\n"
    }
   }
  },
  {
   "cell_type": "code",
   "execution_count": 2,
   "outputs": [],
   "source": [
    "URL = \"http://www.kobis.or.kr/kobisopenapi/webservice/rest/movie/searchMovieList.json\"\n",
    "for i in range(ITER_NUM):\n",
    "    PAGE_NUM = i+1\n",
    "    params = {\n",
    "        \"key\" : \"74c13a6087207fc051ab22dd0752be12\",\n",
    "        \"curPage\" : PAGE_NUM,\n",
    "        \"itemPerPage\" : MAX_PER_PAGE,\n",
    "    }\n",
    "    response = requests.get(URL, params=params)\n",
    "    # print(response.json())\n",
    "    with open(f'./json/movie_list_{PAGE_NUM}.json', 'w') as f :\n",
    "        json.dump(response.json(), f)"
   ],
   "metadata": {
    "collapsed": false,
    "pycharm": {
     "name": "#%%\n"
    }
   }
  },
  {
   "cell_type": "markdown",
   "source": [
    "## API를 이용해 저장한 데이터 불러오기\n"
   ],
   "metadata": {
    "collapsed": false,
    "pycharm": {
     "name": "#%% md\n"
    }
   }
  },
  {
   "cell_type": "code",
   "execution_count": 6,
   "outputs": [
    {
     "name": "stdout",
     "output_type": "stream",
     "text": [
      "Now : 1\n",
      "Now : 201\n",
      "Now : 401\n",
      "Now : 601\n",
      "Now : 801\n",
      "DB에 저장된 영화의 갯수 : 82557\n",
      "현재 API로 불러 온 영화의 갯수 : 82557\n"
     ]
    }
   ],
   "source": [
    "TOTAL_DATA_COUNT = 0\n",
    "for i in range(ITER_NUM) :\n",
    "    if i % CHECK_POINT == 0 :\n",
    "        print(f\"Now : {i+1}\")\n",
    "    with open(f'./json/movie_list_{i+1}.json', 'r') as f :\n",
    "        # content = eval(f.readline().strip())\n",
    "        content = json.load(f)\n",
    "        movieListResult = content['movieListResult']\n",
    "        TOTAL_COUNT = movieListResult['totCnt']\n",
    "        MOVIE_LIST = movieListResult['movieList']\n",
    "        TOTAL_DATA_COUNT  += len(MOVIE_LIST)\n",
    "\n",
    "print(f\"DB에 저장된 영화의 갯수 : {TOTAL_COUNT}\")\n",
    "print(f\"현재 API로 불러 온 영화의 갯수 : {TOTAL_DATA_COUNT}\")"
   ],
   "metadata": {
    "collapsed": false,
    "pycharm": {
     "name": "#%%\n"
    }
   }
  },
  {
   "cell_type": "markdown",
   "source": [
    "## API로 불러온 컬럼 분석"
   ],
   "metadata": {
    "collapsed": false
   }
  },
  {
   "cell_type": "code",
   "execution_count": 14,
   "outputs": [
    {
     "name": "stdout",
     "output_type": "stream",
     "text": [
      "Now : 1\n",
      "Now : 201\n",
      "Now : 401\n",
      "Now : 601\n",
      "Now : 801\n",
      "len(ONE_COL) : 11, ONE_COL : {'movieNmEn', 'prdtYear', 'movieNm', 'repNationNm', 'typeNm', 'nationAlt', 'genreAlt', 'movieCd', 'prdtStatNm', 'repGenreNm', 'openDt'}\n",
      "len(OTHER_COL) : 2, OTHER_COL : {'companys', 'directors'}\n"
     ]
    }
   ],
   "source": [
    "NUM_LEN_ONE_COL = set()\n",
    "NUM_LEN_OTHER_COL = set()\n",
    "\n",
    "for i in range(ITER_NUM):\n",
    "    if i % CHECK_POINT == 0 :\n",
    "        print(f\"Now : {i+1}\")\n",
    "    with open(f'./json/movie_list_{i+1}.json', 'r') as f :\n",
    "        content = json.load(f)\n",
    "        movieListResult = content['movieListResult']\n",
    "        MOVIE_LIST = movieListResult['movieList']\n",
    "        for MOVIE in MOVIE_LIST :\n",
    "            for key, val in MOVIE.items() :\n",
    "                if type(val) != list :\n",
    "                    # if key == 'genreAlt':\n",
    "                    #     print(type(val), val)\n",
    "                    #     break\n",
    "                    NUM_LEN_ONE_COL.add(key)\n",
    "                else :\n",
    "                    NUM_LEN_OTHER_COL.add(key)\n",
    "\n",
    "print(f\"len(ONE_COL) : {len(NUM_LEN_ONE_COL)}, ONE_COL : {NUM_LEN_ONE_COL}\")\n",
    "print(f\"len(OTHER_COL) : {len(NUM_LEN_OTHER_COL)}, OTHER_COL : {NUM_LEN_OTHER_COL}\")"
   ],
   "metadata": {
    "collapsed": false,
    "pycharm": {
     "name": "#%%\n"
    }
   }
  },
  {
   "cell_type": "markdown",
   "source": [
    "## Table 만들기"
   ],
   "metadata": {
    "collapsed": false,
    "pycharm": {
     "name": "#%% md\n"
    }
   }
  },
  {
   "cell_type": "code",
   "execution_count": 17,
   "outputs": [
    {
     "name": "stdout",
     "output_type": "stream",
     "text": [
      "Now : 1\n",
      "Now : 201\n",
      "Now : 401\n",
      "Now : 601\n",
      "Now : 801\n",
      "Num of movies : 82557\n",
      "len of result_genre : 112660\n",
      "[{'20218755': '드라마'}, {'20218755': '공포(호러)'}, {'20218755': '미스터리'}, {'20191202': '액션'}, {'20191202': '스릴러'}, {'20218754': '성인물(에로)'}, {'20218769': '성인물(에로)'}, {'20198161': '스릴러'}, {'20218240': '미스터리'}, {'20218240': '공포(호러)'}]\n"
     ]
    }
   ],
   "source": [
    "result = {}\n",
    "result_genre = []\n",
    "for i in range(ITER_NUM):\n",
    "    if i % CHECK_POINT == 0 :\n",
    "        print(f\"Now : {i+1}\")\n",
    "    with open(f'./json/movie_list_{i+1}.json', 'r') as f :\n",
    "        content = json.load(f)\n",
    "        movieListResult = content['movieListResult']\n",
    "        MOVIE_LIST = movieListResult['movieList']\n",
    "    for MOIVE in MOVIE_LIST :\n",
    "        movie_code = None\n",
    "        for key, val in MOIVE.items():\n",
    "            if type(val) == list :\n",
    "                continue\n",
    "            if key == 'movieCd' :\n",
    "                result[val] = dict()\n",
    "                movie_code = val\n",
    "            try :\n",
    "                if key == 'genreAlt' :\n",
    "                    val = val.split(',')\n",
    "                    for gen in val :\n",
    "                        result_genre.append({movie_code:gen})\n",
    "                    # print(val)\n",
    "                    # raise KeyboardInterrupt\n",
    "                result[movie_code][key] = val\n",
    "            except KeyError :\n",
    "                continue\n",
    "\n",
    "print(f\"Num of movies : {len(result)}\")\n",
    "print(f\"len of result_genre : {len(result_genre)}\")\n",
    "print(result_genre[:10])\n"
   ],
   "metadata": {
    "collapsed": false,
    "pycharm": {
     "name": "#%%\n"
    }
   }
  },
  {
   "cell_type": "markdown",
   "source": [
    "## Pickle, Excel 파일로 저장하기"
   ],
   "metadata": {
    "collapsed": false,
    "pycharm": {
     "name": "#%% md\n"
    }
   }
  },
  {
   "cell_type": "code",
   "execution_count": 19,
   "outputs": [],
   "source": [
    "import pickle\n",
    "# with open(\"movie.pickle\", 'wb') as bf:\n",
    "#     pickle.dump(result, bf)\n",
    "\n",
    "# import pandas as pd\n",
    "# df = pd.DataFrame.from_dict(result).T\n",
    "# with pd.ExcelWriter(\"./excel/movie.xlsx\", mode='w') as W:\n",
    "#     df.to_excel(W)\n",
    "\n",
    "with open(\"genre_collection.pickle\", 'wb') as bf :\n",
    "    pickle.dump(result_genre, bf)"
   ],
   "metadata": {
    "collapsed": false,
    "pycharm": {
     "name": "#%%\n"
    }
   }
  }
 ],
 "metadata": {
  "kernelspec": {
   "display_name": "Python 3",
   "language": "python",
   "name": "python3"
  },
  "language_info": {
   "codemirror_mode": {
    "name": "ipython",
    "version": 2
   },
   "file_extension": ".py",
   "mimetype": "text/x-python",
   "name": "python",
   "nbconvert_exporter": "python",
   "pygments_lexer": "ipython2",
   "version": "2.7.6"
  }
 },
 "nbformat": 4,
 "nbformat_minor": 0
}