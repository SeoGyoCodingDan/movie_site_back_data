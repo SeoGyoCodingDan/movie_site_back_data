{
 "cells": [
  {
   "cell_type": "markdown",
   "metadata": {
    "collapsed": true,
    "pycharm": {
     "name": "#%% md\n"
    }
   },
   "source": [
    "## Import & 전역변수"
   ]
  },
  {
   "cell_type": "code",
   "execution_count": 20,
   "outputs": [],
   "source": [
    "import requests\n",
    "import json\n",
    "TOT_CNT = 157116\n",
    "MAX_PER_PAGE = 100\n",
    "ITER_NUM = TOT_CNT//MAX_PER_PAGE+1\n",
    "CHECK_POINT = 300"
   ],
   "metadata": {
    "collapsed": false,
    "pycharm": {
     "name": "#%%\n"
    }
   }
  },
  {
   "cell_type": "markdown",
   "source": [
    "## 영화진흥위원회 API를 사용하여 영화목록 가져오기\n"
   ],
   "metadata": {
    "collapsed": false,
    "pycharm": {
     "name": "#%% md\n"
    }
   }
  },
  {
   "cell_type": "code",
   "execution_count": 10,
   "outputs": [
    {
     "name": "stdout",
     "output_type": "stream",
     "text": [
      "Now : 300\n",
      "Now : 600\n",
      "Now : 900\n",
      "Now : 1200\n",
      "Now : 1500\n"
     ]
    }
   ],
   "source": [
    "URL = \"http://www.kobis.or.kr/kobisopenapi/webservice/rest/people/searchPeopleList.json\"\n",
    "for i in range(ITER_NUM):\n",
    "    if i != 0 and i%CHECK_POINT == 0 :\n",
    "        print(f\"Now : {i}\")\n",
    "    PAGE_NUM = i+1\n",
    "    params = {\n",
    "        \"key\" : \"74c13a6087207fc051ab22dd0752be12\",\n",
    "        \"curPage\" : PAGE_NUM,\n",
    "        \"itemPerPage\" : MAX_PER_PAGE,\n",
    "    }\n",
    "    response = requests.get(URL, params=params)\n",
    "    # print(response.json())\n",
    "    # break\n",
    "    with open(f'./json/people_list_{PAGE_NUM}.json', 'w') as f :\n",
    "        json.dump(response.json(), f)"
   ],
   "metadata": {
    "collapsed": false,
    "pycharm": {
     "name": "#%%\n"
    }
   }
  },
  {
   "cell_type": "markdown",
   "source": [
    "## API를 이용해 저장한 데이터 불러오기\n"
   ],
   "metadata": {
    "collapsed": false,
    "pycharm": {
     "name": "#%% md\n"
    }
   }
  },
  {
   "cell_type": "code",
   "execution_count": 16,
   "outputs": [
    {
     "name": "stdout",
     "output_type": "stream",
     "text": [
      "Now : 301\n",
      "Now : 601\n",
      "Now : 901\n",
      "Now : 1201\n",
      "Now : 1501\n",
      "DB에 저장된 영화의 갯수 : 157116\n",
      "현재 API로 불러 온 영화의 갯수 : 157116\n"
     ]
    }
   ],
   "source": [
    "TOTAL_DATA_COUNT = 0\n",
    "for i in range(ITER_NUM) :\n",
    "    if i != 0 and  i % CHECK_POINT == 0 :\n",
    "        print(f\"Now : {i}\")\n",
    "    with open(f'./json/people_list_{i+1}.json', 'r') as f :\n",
    "        content = json.load(f)\n",
    "        peopleListResult = content['peopleListResult']\n",
    "        TOTAL_COUNT = peopleListResult['totCnt']\n",
    "        PEOPLE_LIST = peopleListResult['peopleList']\n",
    "        TOTAL_DATA_COUNT  += len(PEOPLE_LIST)\n",
    "\n",
    "print(f\"DB에 저장된 영화의 갯수 : {TOTAL_COUNT}\")\n",
    "print(f\"현재 API로 불러 온 영화의 갯수 : {TOTAL_DATA_COUNT}\")"
   ],
   "metadata": {
    "collapsed": false,
    "pycharm": {
     "name": "#%%\n"
    }
   }
  },
  {
   "cell_type": "markdown",
   "source": [
    "## API로 불러온 컬럼 분석"
   ],
   "metadata": {
    "collapsed": false
   }
  },
  {
   "cell_type": "code",
   "execution_count": 17,
   "outputs": [
    {
     "name": "stdout",
     "output_type": "stream",
     "text": [
      "Now : 301\n",
      "Now : 601\n",
      "Now : 901\n",
      "Now : 1201\n",
      "Now : 1501\n",
      "len(ONE_COL) : 5, ONE_COL : {'peopleCd', 'filmoNames', 'repRoleNm', 'peopleNm', 'peopleNmEn'}\n",
      "len(OTHER_COL) : 0, OTHER_COL : set()\n"
     ]
    }
   ],
   "source": [
    "NUM_LEN_ONE_COL = set()\n",
    "NUM_LEN_OTHER_COL = set()\n",
    "\n",
    "for i in range(ITER_NUM):\n",
    "    if i != 0 and  i % CHECK_POINT == 0 :\n",
    "        print(f\"Now : {i}\")\n",
    "    with open(f'./json/people_list_{i+1}.json', 'r') as f :\n",
    "        content = json.load(f)\n",
    "        peopleListResult = content['peopleListResult']\n",
    "        PEOPLE_LIST = peopleListResult['peopleList']\n",
    "        for PEOPLE in PEOPLE_LIST :\n",
    "            for key, val in PEOPLE.items() :\n",
    "                if type(val) != list :\n",
    "                    NUM_LEN_ONE_COL.add(key)\n",
    "                else :\n",
    "                    NUM_LEN_OTHER_COL.add(key)\n",
    "\n",
    "print(f\"len(ONE_COL) : {len(NUM_LEN_ONE_COL)}, ONE_COL : {NUM_LEN_ONE_COL}\")\n",
    "print(f\"len(OTHER_COL) : {len(NUM_LEN_OTHER_COL)}, OTHER_COL : {NUM_LEN_OTHER_COL}\")"
   ],
   "metadata": {
    "collapsed": false,
    "pycharm": {
     "name": "#%%\n"
    }
   }
  },
  {
   "cell_type": "markdown",
   "source": [
    "## Table 만들기"
   ],
   "metadata": {
    "collapsed": false,
    "pycharm": {
     "name": "#%% md\n"
    }
   }
  },
  {
   "cell_type": "code",
   "execution_count": 18,
   "outputs": [
    {
     "name": "stdout",
     "output_type": "stream",
     "text": [
      "Now : 0\n",
      "Now : 300\n",
      "Now : 600\n",
      "Now : 900\n",
      "Now : 1200\n",
      "Now : 1500\n",
      "Num of people : 157116\n"
     ]
    }
   ],
   "source": [
    "result = {}\n",
    "for i in range(ITER_NUM):\n",
    "    if i % CHECK_POINT == 0 :\n",
    "        print(f\"Now : {i}\")\n",
    "    with open(f'./json/people_list_{i+1}.json', 'r') as f :\n",
    "        content = json.load(f)\n",
    "        peopleListResult = content['peopleListResult']\n",
    "        PEOPLE_LIST = peopleListResult['peopleList']\n",
    "    for PEOPLE in PEOPLE_LIST :\n",
    "        people_code = None\n",
    "        for key, val in PEOPLE.items():\n",
    "            if type(val) == list :\n",
    "                continue\n",
    "            if key == 'peopleCd' :\n",
    "                result[val] = dict()\n",
    "                people_code = val\n",
    "            try :\n",
    "                result[people_code][key] = val\n",
    "            except KeyError :\n",
    "                continue\n",
    "\n",
    "print(f\"Num of people : {len(result)}\")\n"
   ],
   "metadata": {
    "collapsed": false,
    "pycharm": {
     "name": "#%%\n"
    }
   }
  },
  {
   "cell_type": "markdown",
   "source": [
    "## Pickle, Excel 파일로 저장하기"
   ],
   "metadata": {
    "collapsed": false,
    "pycharm": {
     "name": "#%% md\n"
    }
   }
  },
  {
   "cell_type": "code",
   "execution_count": 19,
   "outputs": [],
   "source": [
    "import pickle\n",
    "with open(\"people.pickle\", 'wb') as bf:\n",
    "    pickle.dump(result, bf)\n",
    "\n",
    "import pandas as pd\n",
    "df = pd.DataFrame.from_dict(result).T\n",
    "with pd.ExcelWriter(\"./excel/people.xlsx\", mode='w') as W:\n",
    "    df.to_excel(W)"
   ],
   "metadata": {
    "collapsed": false,
    "pycharm": {
     "name": "#%%\n"
    }
   }
  }
 ],
 "metadata": {
  "kernelspec": {
   "display_name": "Python 3",
   "language": "python",
   "name": "python3"
  },
  "language_info": {
   "codemirror_mode": {
    "name": "ipython",
    "version": 2
   },
   "file_extension": ".py",
   "mimetype": "text/x-python",
   "name": "python",
   "nbconvert_exporter": "python",
   "pygments_lexer": "ipython2",
   "version": "2.7.6"
  }
 },
 "nbformat": 4,
 "nbformat_minor": 0
}