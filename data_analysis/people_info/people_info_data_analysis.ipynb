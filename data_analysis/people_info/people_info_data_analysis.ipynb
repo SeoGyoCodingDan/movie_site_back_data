{
 "cells": [
  {
   "cell_type": "markdown",
   "source": [
    "## Import & 전역변수"
   ],
   "metadata": {
    "collapsed": false
   }
  },
  {
   "cell_type": "code",
   "execution_count": 13,
   "outputs": [],
   "source": [
    "import requests\n",
    "import json\n",
    "import pickle\n",
    "import os\n",
    "import pandas as pd\n",
    "TOT_CNT = 157116\n",
    "MAX_PER_PAGE = 100\n",
    "ITER_NUM = TOT_CNT//MAX_PER_PAGE+1\n",
    "CHECK_POINT = 300\n",
    "PEOPLE_LIST_PATH = \"../people/people.pickle\"\n",
    "VISIT_PATH = \"./visit.pickle\"\n",
    "NUM_DIRECTORS, NUM_ACTORS, NUM_ETC = 1000, 1000, 1000"
   ],
   "metadata": {
    "collapsed": false,
    "pycharm": {
     "name": "#%%\n"
    }
   }
  },
  {
   "cell_type": "markdown",
   "source": [
    "## 체크리스트 만들기 (VISIT)\n",
    "\n"
   ],
   "metadata": {
    "collapsed": false,
    "pycharm": {
     "name": "#%% md\n"
    }
   }
  },
  {
   "cell_type": "code",
   "execution_count": 12,
   "outputs": [],
   "source": [
    "with open(PEOPLE_LIST_PATH, 'rb') as f :\n",
    "    PEOPLE_LIST = pickle.load(f)\n",
    "VISIT = {people_code : False for people_code in PEOPLE_LIST}\n",
    "with open(VISIT_PATH, 'wb') as f :\n",
    "    pickle.dump(VISIT, f)"
   ],
   "metadata": {
    "collapsed": false,
    "pycharm": {
     "name": "#%%\n"
    }
   }
  },
  {
   "cell_type": "markdown",
   "source": [
    "## 영화진흥위원회 API를 사용하여 영화정보 가져오기"
   ],
   "metadata": {
    "collapsed": false,
    "pycharm": {
     "name": "#%% md\n"
    }
   }
  },
  {
   "cell_type": "code",
   "execution_count": 12,
   "outputs": [
    {
     "name": "stdout",
     "output_type": "stream",
     "text": [
      "Now : 300\n",
      "Now : 600\n",
      "Now : 900\n",
      "Now : 1200\n",
      "Now : 1500\n",
      "Now : 1800\n",
      "Now : 2100\n",
      "Now : 2400\n",
      "Now : 2700\n",
      "DIR_CNT : 1000, ACT_CNT : 1000, ETC_CNT : 1000\n"
     ]
    }
   ],
   "source": [
    "with open(PEOPLE_LIST_PATH, 'rb') as f :\n",
    "    ORI_PEOPLE_LIST = pickle.load(f)\n",
    "with open(VISIT_PATH, 'rb') as f :\n",
    "    VISIT = pickle.load(f)\n",
    "URL = \"http://www.kobis.or.kr/kobisopenapi/webservice/rest/people/searchPeopleInfo.json\"\n",
    "PEOPLE_LIST = {people_code : ORI_PEOPLE_LIST[people_code]['repRoleNm'] for people_code in ORI_PEOPLE_LIST if VISIT[people_code] == False}\n",
    "DIR_CNT, ACT_CNT, ETC_CNT = 0, 0, 0\n",
    "idx = 0\n",
    "for PEOPLE in PEOPLE_LIST :\n",
    "    if DIR_CNT == NUM_DIRECTORS and ACT_CNT == NUM_ACTORS and ETC_CNT == NUM_ETC :\n",
    "        break\n",
    "    if PEOPLE_LIST[PEOPLE] == '감독' and DIR_CNT < NUM_DIRECTORS :\n",
    "        DIR_CNT += 1\n",
    "    elif PEOPLE_LIST[PEOPLE] == '배우' and ACT_CNT < NUM_ACTORS :\n",
    "        ACT_CNT += 1\n",
    "    elif PEOPLE_LIST[PEOPLE] != '감독' and PEOPLE_LIST[PEOPLE] != '배우' and ETC_CNT < NUM_ETC :\n",
    "        ETC_CNT += 1\n",
    "    else :\n",
    "        continue\n",
    "    VISIT[PEOPLE] = True\n",
    "\n",
    "    if idx!=0 and idx % CHECK_POINT == 0 :\n",
    "        print(f\"Now : {idx}\")\n",
    "    params = {\n",
    "        # \"key\" : \"74c13a6087207fc051ab22dd0752be12\",\n",
    "       \"key\" : \"6e5d624a2e3f9085996905e406f5c882\",\n",
    "        \"peopleCd\" : PEOPLE,\n",
    "    }\n",
    "    response = requests.get(URL, params=params)\n",
    "    # print(response.json())\n",
    "    # if idx == 10 :\n",
    "    #     break\n",
    "    with open(f'./json/{PEOPLE}.json', 'w') as f :\n",
    "        json.dump(response.json(), f)\n",
    "\n",
    "    idx += 1\n",
    "\n",
    "print(f\"DIR_CNT : {DIR_CNT}, ACT_CNT : {ACT_CNT}, ETC_CNT : {ETC_CNT}\")\n",
    "\n",
    "with open(VISIT_PATH, 'wb') as f :\n",
    "    pickle.dump(VISIT, f)"
   ],
   "metadata": {
    "collapsed": false,
    "pycharm": {
     "name": "#%%\n"
    }
   }
  },
  {
   "cell_type": "markdown",
   "source": [
    "## API를 이용해 저장한 데이터 불러오기 & 컬럼 분석"
   ],
   "metadata": {
    "collapsed": false,
    "pycharm": {
     "name": "#%% md\n"
    }
   }
  },
  {
   "cell_type": "code",
   "execution_count": 14,
   "outputs": [
    {
     "name": "stdout",
     "output_type": "stream",
     "text": [
      "len(ONE_COL) : 5, ONE_COL : {'peopleNm', 'peopleCd', 'peopleNmEn', 'repRoleNm', 'sex'}\n",
      "len(OTHER_COL) : 2, OTHER_COL : {'filmos', 'homepages'}\n"
     ]
    }
   ],
   "source": [
    "EACH_FILE_PATH = \"./json/\"\n",
    "files = [file for file in os.listdir(EACH_FILE_PATH) if file.endswith('.json')]\n",
    "result = {}\n",
    "\n",
    "NUM_LEN_ONE_COL = set()\n",
    "NUM_LEN_OTHER_COL = set()\n",
    "\n",
    "for file in files :\n",
    "    with open(EACH_FILE_PATH+file, 'r') as f :\n",
    "        load_result = json.load(f)\n",
    "        peopleInfoResult = load_result['peopleInfoResult']\n",
    "    INFOS = peopleInfoResult['peopleInfo']\n",
    "    people_code = INFOS['peopleCd']\n",
    "    result[people_code] = INFOS\n",
    "    for key, val in INFOS.items() :\n",
    "        if type(val) != list :\n",
    "            NUM_LEN_ONE_COL.add(key)\n",
    "        else :\n",
    "            NUM_LEN_OTHER_COL.add(key)\n",
    "\n",
    "print(f\"len(ONE_COL) : {len(NUM_LEN_ONE_COL)}, ONE_COL : {NUM_LEN_ONE_COL}\")\n",
    "print(f\"len(OTHER_COL) : {len(NUM_LEN_OTHER_COL)}, OTHER_COL : {NUM_LEN_OTHER_COL}\")"
   ],
   "metadata": {
    "collapsed": false,
    "pycharm": {
     "name": "#%%\n"
    }
   }
  },
  {
   "cell_type": "markdown",
   "source": [
    "## Table 만들기"
   ],
   "metadata": {
    "collapsed": false,
    "pycharm": {
     "name": "#%% md\n"
    }
   }
  },
  {
   "cell_type": "code",
   "execution_count": 15,
   "outputs": [
    {
     "name": "stdout",
     "output_type": "stream",
     "text": [
      "Now : 300\n",
      "Now : 600\n",
      "Now : 900\n",
      "Now : 1200\n",
      "Now : 1500\n",
      "Now : 1800\n",
      "Now : 2100\n",
      "Now : 2400\n",
      "Now : 2700\n",
      "Now : 3000\n",
      "Now : 3300\n",
      "Now : 3600\n",
      "Now : 3900\n",
      "Now : 4200\n",
      "Now : 4500\n",
      "Now : 4800\n",
      "Now : 5100\n",
      "Now : 5400\n",
      "Now : 5700\n",
      "Now : 6000\n",
      "Now : 6300\n",
      "Now : 6600\n",
      "Now : 6900\n",
      "Now : 7200\n",
      "Now : 7500\n",
      "Now : 7800\n",
      "Now : 8100\n",
      "Now : 8400\n",
      "Now : 8700\n",
      "Now : 9000\n",
      "Now : 9300\n",
      "Now : 9600\n",
      "Now : 9900\n",
      "Now : 10200\n",
      "Now : 10500\n",
      "Now : 10800\n",
      "Now : 11100\n",
      "Now : 11400\n",
      "Now : 11700\n",
      "Now : 12000\n",
      "Now : 12300\n",
      "Now : 12600\n",
      "Now : 12900\n",
      "Now : 13200\n",
      "Now : 13500\n",
      "Now : 13800\n",
      "Now : 14100\n",
      "Now : 14400\n",
      "Now : 14700\n",
      "Num of people : 15000\n"
     ]
    }
   ],
   "source": [
    "EACH_FILE_PATH = \"./json/\"\n",
    "files = [file for file in os.listdir(EACH_FILE_PATH) if file.endswith('.json')]\n",
    "result = {}\n",
    "result_filmo = []\n",
    "for idx,file in enumerate(files) :\n",
    "    if idx != 0 and idx % CHECK_POINT == 0 :\n",
    "        print(f\"Now : {idx}\")\n",
    "    with open(EACH_FILE_PATH+file, 'r') as f :\n",
    "        content = json.load(f)\n",
    "        peopleInfoResult = content['peopleInfoResult']\n",
    "        people_info = peopleInfoResult['peopleInfo']\n",
    "    people_code = None\n",
    "    for key, val in people_info.items() :\n",
    "        if type(val) == list :\n",
    "            if key == 'filmos' :\n",
    "                for fil in val :\n",
    "                    fil['peopleCd'] = people_code\n",
    "                    result_filmo.append(fil)\n",
    "            else :\n",
    "                continue\n",
    "        if key == 'peopleCd' :\n",
    "            result[val] = dict()\n",
    "            people_code = val\n",
    "        try :\n",
    "            result[people_code][key] = val\n",
    "        except KeyError :\n",
    "            continue\n",
    "\n",
    "print(f\"Num of people : {len(result)}\")\n",
    "# print(result_filmo[:10])\n"
   ],
   "metadata": {
    "collapsed": false,
    "pycharm": {
     "name": "#%%\n"
    }
   }
  },
  {
   "cell_type": "markdown",
   "source": [
    "## Pickle, Excel 파일로 저장하기\n"
   ],
   "metadata": {
    "collapsed": false,
    "pycharm": {
     "name": "#%% md\n"
    }
   }
  },
  {
   "cell_type": "code",
   "execution_count": 16,
   "outputs": [],
   "source": [
    "with open(\"people_info.pickle\", 'wb') as bf:\n",
    "    pickle.dump(result, bf)\n",
    "\n",
    "df = pd.DataFrame.from_dict(result).T\n",
    "with pd.ExcelWriter(\"./excel/people_info.xlsx\", mode='w') as W:\n",
    "    df.to_excel(W)\n",
    "\n",
    "with open(\"filmo_collection.pickle\",'wb') as bf :\n",
    "    pickle.dump(result_filmo, bf)"
   ],
   "metadata": {
    "collapsed": false,
    "pycharm": {
     "name": "#%%\n"
    }
   }
  }
 ],
 "metadata": {
  "kernelspec": {
   "display_name": "Python 3",
   "language": "python",
   "name": "python3"
  },
  "language_info": {
   "codemirror_mode": {
    "name": "ipython",
    "version": 2
   },
   "file_extension": ".py",
   "mimetype": "text/x-python",
   "name": "python",
   "nbconvert_exporter": "python",
   "pygments_lexer": "ipython2",
   "version": "2.7.6"
  }
 },
 "nbformat": 4,
 "nbformat_minor": 0
}