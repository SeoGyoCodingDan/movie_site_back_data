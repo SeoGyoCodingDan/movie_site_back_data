{
 "cells": [
  {
   "cell_type": "markdown",
   "metadata": {
    "collapsed": true,
    "pycharm": {
     "name": "#%% md\n"
    }
   },
   "source": [
    "## Import & 전역변수\n"
   ]
  },
  {
   "cell_type": "code",
   "execution_count": 19,
   "outputs": [],
   "source": [
    "from selenium import webdriver\n",
    "from bs4 import BeautifulSoup\n",
    "import time\n",
    "import pickle\n",
    "\n",
    "MOVIE_LIST_PATH = '../../data_analysis/movie/movie.pickle'\n",
    "VISIT_PATH = './visit.pickle'\n",
    "MOVIE_POSTER_PATH = './movie_poster/'\n",
    "BASE_URL = 'https://kobis.or.kr/kobis/business/mast/mvie/searchMovieList.do?dtTp=movie&dtCd='\n",
    "BASE_RESULT_URL = 'https://kobis.or.kr'\n",
    "# HOW_MANY = 900 # 3600초 기대\n",
    "HOW_MANY = 110\n",
    "CHECK_POINT = 100"
   ],
   "metadata": {
    "collapsed": false,
    "pycharm": {
     "name": "#%%\n"
    }
   }
  },
  {
   "cell_type": "markdown",
   "source": [
    "## 체크리스트 만들기 (VISIT, 초기 한번만 실행)"
   ],
   "metadata": {
    "collapsed": false
   }
  },
  {
   "cell_type": "code",
   "execution_count": 6,
   "outputs": [
    {
     "name": "stdout",
     "output_type": "stream",
     "text": [
      "Num of movies : 82557\n"
     ]
    }
   ],
   "source": [
    "with open(MOVIE_LIST_PATH, 'rb') as f :\n",
    "    MOVIE_LIST = pickle.load(f)\n",
    "VISIT = {movie_code : False for movie_code in MOVIE_LIST}\n",
    "print(f\"Num of movies : {len(VISIT)}\")\n",
    "with open(VISIT_PATH, 'wb') as f :\n",
    "    pickle.dump(VISIT, f)\n"
   ],
   "metadata": {
    "collapsed": false,
    "pycharm": {
     "name": "#%%\n"
    }
   }
  },
  {
   "cell_type": "markdown",
   "source": [
    "## 영화진흥위원회 사이트에서 영화 포스터 크롤링 하기\n"
   ],
   "metadata": {
    "collapsed": false,
    "pycharm": {
     "name": "#%% md\n"
    }
   }
  },
  {
   "cell_type": "code",
   "execution_count": 20,
   "outputs": [
    {
     "name": "stdout",
     "output_type": "stream",
     "text": [
      "Completed file count : 18\n",
      "Execution time : 71.0552589893341\n"
     ]
    }
   ],
   "source": [
    "start_time = time.time()\n",
    "with open(VISIT_PATH, 'rb') as f :\n",
    "    VISIT = pickle.load(f)\n",
    "\n",
    "file_count = 0\n",
    "for movie_code, is_visit in VISIT.items() :\n",
    "    if is_visit :\n",
    "        continue\n",
    "\n",
    "    if file_count != 0 and file_count % CHECK_POINT == 0 :\n",
    "        print(f\"Now file_count : {file_count}\")\n",
    "        print(f\"Now execution time : {time.time()-start_time}\")\n",
    "\n",
    "    try :\n",
    "        url = BASE_URL+movie_code\n",
    "        options = webdriver.ChromeOptions()\n",
    "        options.add_argument('headless')\n",
    "        driver = webdriver.Chrome('/usr/local/bin/chromedriver', options=options)\n",
    "        driver.get(url)\n",
    "\n",
    "        html = driver.page_source\n",
    "        soup = BeautifulSoup(html, 'html.parser')\n",
    "        img_src = soup.find(\"a\", {'class':'fl thumb'})\n",
    "\n",
    "        target_url = img_src['href']\n",
    "        result_url = BASE_RESULT_URL+target_url\n",
    "\n",
    "        result = {movie_code:result_url}\n",
    "        with open(MOVIE_POSTER_PATH+f\"{movie_code}_poster.pickle\", 'wb') as f :\n",
    "            pickle.dump(result, f)\n",
    "\n",
    "        VISIT[movie_code] = True\n",
    "        file_count += 1\n",
    "    except :\n",
    "        continue\n",
    "\n",
    "    # if file_count == HOW_MANY :\n",
    "    #         break\n",
    "\n",
    "with open(VISIT_PATH, 'wb') as f :\n",
    "    pickle.dump(VISIT, f)\n",
    "\n",
    "print(f\"Completed file count : {file_count}\")\n",
    "print(f\"Execution time : {time.time()-start_time}\")\n"
   ],
   "metadata": {
    "collapsed": false,
    "pycharm": {
     "name": "#%%\n"
    }
   }
  }
 ],
 "metadata": {
  "kernelspec": {
   "display_name": "Python 3",
   "language": "python",
   "name": "python3"
  },
  "language_info": {
   "codemirror_mode": {
    "name": "ipython",
    "version": 2
   },
   "file_extension": ".py",
   "mimetype": "text/x-python",
   "name": "python",
   "nbconvert_exporter": "python",
   "pygments_lexer": "ipython2",
   "version": "2.7.6"
  }
 },
 "nbformat": 4,
 "nbformat_minor": 0
}